{
 "cells": [
  {
   "cell_type": "markdown",
   "metadata": {},
   "source": [
    "# Data Acquisition via File Ingestion (JSON Format)"
   ]
  },
  {
   "cell_type": "markdown",
   "metadata": {},
   "source": [
    "---"
   ]
  },
  {
   "cell_type": "markdown",
   "metadata": {},
   "source": [
    "## Setup and Ingestion"
   ]
  },
  {
   "cell_type": "markdown",
   "metadata": {},
   "source": [
    "### Import Modules"
   ]
  },
  {
   "cell_type": "code",
   "execution_count": null,
   "metadata": {},
   "outputs": [],
   "source": [
    "# Import necessary modules: \n",
    "# json for handling native JSON file reading.\n",
    "# pandas for data ingestion, manipulation, and analysis.\n",
    "import json\n",
    "import pandas as pd\n",
    "from datetime import datetime\n",
    "\n",
    "print(\"Modules imported.\")"
   ]
  },
  {
   "cell_type": "markdown",
   "metadata": {},
   "source": [
    "### Define File Path and Ingestion Method\n",
    "This cell defines the file path and uses the robust Python method for loading a standard JSON file (a list of records) into a native Python list."
   ]
  },
  {
   "cell_type": "code",
   "execution_count": null,
   "metadata": {},
   "outputs": [],
   "source": [
    "# Define the path to the JSON file\n",
    "FILE_PATH = \"nba_records.json\" \n",
    "\n",
    "# --- 1. Load the JSON data from the file into a Python list ---\n",
    "try:\n",
    "    with open(FILE_PATH, 'r') as file_pointer:\n",
    "        # json.load() is used because the file is a standard list of records\n",
    "        nba_data_list = json.load(file_pointer)\n",
    "    \n",
    "    print(f\"File '{FILE_PATH}' successfully loaded into a Python list.\")\n",
    "    print(f\"Loaded {len(nba_data_list)} records.\")\n",
    "    \n",
    "except FileNotFoundError:\n",
    "    print(f\"ERROR: File not found at {FILE_PATH}. Please ensure the file is in the correct directory.\")"
   ]
  },
  {
   "cell_type": "markdown",
   "metadata": {},
   "source": [
    "### Take a Look at Some of the Raw Data"
   ]
  },
  {
   "cell_type": "code",
   "execution_count": null,
   "metadata": {},
   "outputs": [],
   "source": [
    "nba_data_list[0:3]"
   ]
  },
  {
   "cell_type": "markdown",
   "metadata": {},
   "source": [
    "### Convert to Pandas DataFrame\n",
    "This is the key step that transforms the raw Python list of dictionaries into a structured, tabular object for analysis."
   ]
  },
  {
   "cell_type": "code",
   "execution_count": null,
   "metadata": {},
   "outputs": [],
   "source": [
    "# Convert the list of dictionaries directly into a Pandas DataFrame\n",
    "nba_df = pd.DataFrame(nba_data_list)\n",
    "\n",
    "print(\"List converted into a DataFrame.\")\n",
    "print(f\"DataFrame shape: {nba_df.shape}\")\n",
    "print(\"\\nFirst 3 rows of the full DataFrame:\")\n",
    "display(nba_df.head(3))"
   ]
  },
  {
   "cell_type": "markdown",
   "metadata": {},
   "source": [
    "---"
   ]
  },
  {
   "cell_type": "markdown",
   "metadata": {},
   "source": [
    "## Data Filtering and Analysis"
   ]
  },
  {
   "cell_type": "markdown",
   "metadata": {
    "tags": []
   },
   "source": [
    "### Filter Columns\n",
    "We filter the DataFrame to keep only the columns relevant for the current analysis: TEAM_CITY, TEAM_NAME, and PTS."
   ]
  },
  {
   "cell_type": "code",
   "execution_count": null,
   "metadata": {},
   "outputs": [],
   "source": [
    "# Select only the desired columns and create a copy of the new DataFrame\n",
    "team_analysis_df = nba_df[['TEAM_CITY', 'TEAM_NAME', 'PTS']].copy()\n",
    "\n",
    "print(\"DataFrame filtered to only display TEAM_CITY, TEAM_NAME, and PTS.\")\n",
    "display(team_analysis_df.head())"
   ]
  },
  {
   "cell_type": "markdown",
   "metadata": {},
   "source": [
    "### Calculate Average Points (Average_PTS)\n",
    "We calculate a single scalar value—the average points—which will be used as the baseline for our analysis."
   ]
  },
  {
   "cell_type": "code",
   "execution_count": null,
   "metadata": {},
   "outputs": [],
   "source": [
    "# Calculate the Average_PTS across all teams using the .mean() method\n",
    "average_pts = team_analysis_df['PTS'].mean()\n",
    "\n",
    "print(f\"Calculated Average Points (Average_PTS) across all teams: {average_pts:.2f}\")"
   ]
  },
  {
   "cell_type": "markdown",
   "metadata": {},
   "source": [
    "### Calculate the Delta Column\n",
    "This demonstrates vectorization in Pandas by subtracting the single scalar (average_pts) from the entire PTS column at once."
   ]
  },
  {
   "cell_type": "code",
   "execution_count": null,
   "metadata": {},
   "outputs": [],
   "source": [
    "# Create the Delta column: PTS - Average_PTS\n",
    "# This shows how much each team scored above (positive) or below (negative) the league average.\n",
    "team_analysis_df['Delta'] = team_analysis_df['PTS'] - average_pts\n",
    "\n",
    "print(\"New 'Delta' column created.\")\n",
    "display(team_analysis_df.head())"
   ]
  },
  {
   "cell_type": "markdown",
   "metadata": {},
   "source": [
    "---"
   ]
  },
  {
   "cell_type": "markdown",
   "metadata": {},
   "source": [
    "## Output and Load"
   ]
  },
  {
   "cell_type": "markdown",
   "metadata": {
    "tags": []
   },
   "source": [
    "### Sort and Finalize\n",
    "We sort the DataFrame by the new Delta column to clearly show the best and worst performing teams relative to the average."
   ]
  },
  {
   "cell_type": "code",
   "execution_count": null,
   "metadata": {},
   "outputs": [],
   "source": [
    "# Sort the DataFrame from greatest to least based on the Delta column\n",
    "team_analysis_df = team_analysis_df.sort_values(by='Delta', ascending=False)\n",
    "\n",
    "print(\"DataFrame sorted by Delta (greatest difference above average first).\")\n",
    "display(team_analysis_df.head(5))"
   ]
  },
  {
   "cell_type": "markdown",
   "metadata": {},
   "source": [
    "### Export to CSV\n",
    "This is the final Load (L) phase, saving the cleaned and analyzed data to a persistent file."
   ]
  },
  {
   "cell_type": "code",
   "execution_count": null,
   "metadata": {},
   "outputs": [],
   "source": [
    "# Define the output filename\n",
    "timestamp = datetime.now().strftime(\"%Y%m%d_%H%M%S\")\n",
    "output_filename = f'nba_team_points_analysis_{timestamp}.csv'\n",
    "\n",
    "# Export the final DataFrame to a CSV file\n",
    "team_analysis_df.to_csv(output_filename, index=False)\n",
    "\n",
    "print(f\"--- Analysis and Load Phase Complete ---\")\n",
    "print(f\"Clean, analyzed data successfully exported to: {output_filename}\")"
   ]
  }
 ],
 "metadata": {
  "kernelspec": {
   "display_name": "Python 3 (ipykernel)",
   "language": "python",
   "name": "python3"
  },
  "language_info": {
   "codemirror_mode": {
    "name": "ipython",
    "version": 3
   },
   "file_extension": ".py",
   "mimetype": "text/x-python",
   "name": "python",
   "nbconvert_exporter": "python",
   "pygments_lexer": "ipython3",
   "version": "3.9.13"
  }
 },
 "nbformat": 4,
 "nbformat_minor": 4
}
